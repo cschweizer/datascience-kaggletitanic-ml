{
 "metadata": {
  "language_info": {
   "codemirror_mode": {
    "name": "ipython",
    "version": 3
   },
   "file_extension": ".py",
   "mimetype": "text/x-python",
   "name": "python",
   "nbconvert_exporter": "python",
   "pygments_lexer": "ipython3",
   "version": "3.7.7-final"
  },
  "orig_nbformat": 2,
  "kernelspec": {
   "name": "python37764bit210aca433ef047ca828037caa5bf2d46",
   "display_name": "Python 3.7.7 64-bit"
  },
  "metadata": {
   "interpreter": {
    "hash": "aee8b7b246df8f9039afb4144a1f6fd8d2ca17a180786b69acc140d282b71a49"
   }
  }
 },
 "nbformat": 4,
 "nbformat_minor": 2,
 "cells": [
  {
   "cell_type": "code",
   "execution_count": 12,
   "metadata": {},
   "outputs": [],
   "source": [
    "import numpy as np\n",
    "import pandas as pd\n",
    "\n",
    "train_data = pd.read_csv(\"kaggle/input/train.csv\")\n",
    "test_data = pd.read_csv(\"kaggle/input/test.csv\")\n",
    "\n",
    "# Missing Values\n",
    "# Add mean() Age for missing Ages\n",
    "# Mean Age of Pclass 1 / male: 41.28138613861386\n",
    "# Mean Age of Pclass 1 / female: 34.61176470588235\n",
    "# Mean Age of Pclass 2 / male: 30.74070707070707\n",
    "# Mean Age of Pclass 2 / female: 28.722972972972972\n",
    "# Mean Age of Pclass 3 / male: 26.507588932806325\n",
    "# Mean Age of Pclass 3 / female: 21.75\n",
    "# Median Age of Pclass 1 / male: 42.0\n",
    "# Median Age of Pclass 1 / female: 36.0\n",
    "# Median Age of Pclass 2 / male: 29.5\n",
    "# Median Age of Pclass 2 / female: 28.0\n",
    "# Median Age of Pclass 3 / male: 25.0\n",
    "# Median Age of Pclass 3 / female: 22.0\n",
    "train_data.Age.mask((train_data.Pclass == 1) & (train_data.Sex == \"male\") & (train_data.Age.isnull() == True), 42, inplace=True)\n",
    "train_data.Age.mask((train_data.Pclass == 1) & (train_data.Sex == \"female\") & (train_data.Age.isnull() == True), 36, inplace=True)\n",
    "test_data.Age.mask((test_data.Pclass == 1) & (test_data.Sex == \"male\") & (test_data.Age.isnull() == True), 42, inplace=True)\n",
    "test_data.Age.mask((test_data.Pclass == 1) & (test_data.Sex == \"female\") & (test_data.Age.isnull() == True), 36, inplace=True)\n",
    "\n",
    "train_data.Age.mask((train_data.Pclass == 2) & (train_data.Sex == \"male\") & (train_data.Age.isnull() == True), 29.5, inplace=True)\n",
    "train_data.Age.mask((train_data.Pclass == 2) & (train_data.Sex == \"female\") & (train_data.Age.isnull() == True), 28, inplace=True)\n",
    "test_data.Age.mask((test_data.Pclass == 2) & (test_data.Sex == \"male\") & (test_data.Age.isnull() == True), 29.5, inplace=True)\n",
    "test_data.Age.mask((test_data.Pclass == 2) & (test_data.Sex == \"female\") & (test_data.Age.isnull() == True), 28, inplace=True)\n",
    "\n",
    "train_data.Age.mask((train_data.Pclass == 3) & (train_data.Sex == \"male\") & (train_data.Age.isnull() == True), 25, inplace=True)\n",
    "train_data.Age.mask((train_data.Pclass == 3) & (train_data.Sex == \"female\") & (train_data.Age.isnull() == True), 22, inplace=True)\n",
    "test_data.Age.mask((test_data.Pclass == 3) & (test_data.Sex == \"male\") & (test_data.Age.isnull() == True), 25, inplace=True)\n",
    "test_data.Age.mask((test_data.Pclass == 3) & (test_data.Sex == \"female\") & (test_data.Age.isnull() == True), 22, inplace=True)\n",
    "\n",
    "# Cabin Category\n",
    "train_data.Cabin = train_data.Cabin.str[0]\n",
    "test_data.Cabin = test_data.Cabin.str[0]\n",
    "\n",
    "# Age\n",
    "train_data['AgeGroup'] = pd.cut(train_data['Age'], bins=15)\n",
    "test_data['AgeGroup'] = pd.cut(test_data['Age'], bins=15)\n",
    "\n",
    "# Fare\n",
    "# Missing Fare\n",
    "train_data.Fare.mask((train_data.Fare.isnull() == True), 32.204208, inplace=True)\n",
    "test_data.Fare.mask((test_data.Fare.isnull() == True), 35.627188, inplace=True)\n",
    "\n",
    "# Split into Fare Groups\n",
    "train_data['FareGroup'] = pd.cut(train_data['Fare'], bins=15)\n",
    "test_data['FareGroup'] = pd.cut(test_data['Fare'], bins=15)\n",
    "\n",
    "# Export\n",
    "train_data.to_csv(\"kaggle/cleaned/train.csv\", index=False)\n",
    "test_data.to_csv(\"kaggle/cleaned/test.csv\", index=False)"
   ]
  },
  {
   "cell_type": "code",
   "execution_count": null,
   "metadata": {},
   "outputs": [],
   "source": []
  }
 ]
}