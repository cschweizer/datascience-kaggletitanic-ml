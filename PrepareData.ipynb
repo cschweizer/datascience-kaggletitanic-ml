{
 "metadata": {
  "language_info": {
   "codemirror_mode": {
    "name": "ipython",
    "version": 3
   },
   "file_extension": ".py",
   "mimetype": "text/x-python",
   "name": "python",
   "nbconvert_exporter": "python",
   "pygments_lexer": "ipython3",
   "version": "3.7.7-final"
  },
  "orig_nbformat": 2,
  "kernelspec": {
   "name": "python37764bit210aca433ef047ca828037caa5bf2d46",
   "display_name": "Python 3.7.7 64-bit"
  },
  "metadata": {
   "interpreter": {
    "hash": "aee8b7b246df8f9039afb4144a1f6fd8d2ca17a180786b69acc140d282b71a49"
   }
  }
 },
 "nbformat": 4,
 "nbformat_minor": 2,
 "cells": [
  {
   "cell_type": "code",
   "execution_count": 1,
   "metadata": {},
   "outputs": [],
   "source": [
    "import numpy as np\n",
    "import pandas as pd\n",
    "\n",
    "train_data = pd.read_csv(\"kaggle/input/train.csv\")\n",
    "test_data = pd.read_csv(\"kaggle/input/test.csv\")"
   ]
  },
  {
   "cell_type": "code",
   "execution_count": 3,
   "metadata": {},
   "outputs": [],
   "source": [
    "cleanedTestData = test_data\n",
    "cleanedTrainData = train_data\n",
    "\n",
    "# Cabin Class\n",
    "\n",
    "\n",
    "# Age\n",
    "\n",
    "\n",
    "# Fare\n",
    "\n",
    "\n",
    "cleanedTrainData.to_csv(\"kaggle/cleaned/train.csv\")\n",
    "cleanedTestData.to_csv(\"kaggle/cleaned/test.csv\")"
   ]
  },
  {
   "cell_type": "code",
   "execution_count": null,
   "metadata": {},
   "outputs": [],
   "source": []
  }
 ]
}